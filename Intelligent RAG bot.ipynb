{
 "cells": [
  {
   "cell_type": "code",
   "execution_count": 2,
   "id": "b796371c-1a53-479d-aabe-62b64c62638f",
   "metadata": {
    "scrolled": true
   },
   "outputs": [
    {
     "name": "stdout",
     "output_type": "stream",
     "text": [
      "Collecting llama-index\n",
      "  Downloading llama_index-0.11.12-py3-none-any.whl.metadata (11 kB)\n",
      "Collecting llama-index-agent-openai<0.4.0,>=0.3.4 (from llama-index)\n",
      "  Downloading llama_index_agent_openai-0.3.4-py3-none-any.whl.metadata (728 bytes)\n",
      "Collecting llama-index-cli<0.4.0,>=0.3.1 (from llama-index)\n",
      "  Downloading llama_index_cli-0.3.1-py3-none-any.whl.metadata (1.5 kB)\n",
      "Collecting llama-index-core<0.12.0,>=0.11.11 (from llama-index)\n",
      "  Downloading llama_index_core-0.11.12-py3-none-any.whl.metadata (2.4 kB)\n",
      "Collecting llama-index-embeddings-openai<0.3.0,>=0.2.4 (from llama-index)\n",
      "  Downloading llama_index_embeddings_openai-0.2.5-py3-none-any.whl.metadata (686 bytes)\n",
      "Collecting llama-index-indices-managed-llama-cloud>=0.3.0 (from llama-index)\n",
      "  Downloading llama_index_indices_managed_llama_cloud-0.3.1-py3-none-any.whl.metadata (3.8 kB)\n",
      "Collecting llama-index-legacy<0.10.0,>=0.9.48 (from llama-index)\n",
      "  Downloading llama_index_legacy-0.9.48.post3-py3-none-any.whl.metadata (8.5 kB)\n",
      "Collecting llama-index-llms-openai<0.3.0,>=0.2.9 (from llama-index)\n",
      "  Downloading llama_index_llms_openai-0.2.9-py3-none-any.whl.metadata (648 bytes)\n",
      "Collecting llama-index-multi-modal-llms-openai<0.3.0,>=0.2.0 (from llama-index)\n",
      "  Downloading llama_index_multi_modal_llms_openai-0.2.1-py3-none-any.whl.metadata (728 bytes)\n",
      "Collecting llama-index-program-openai<0.3.0,>=0.2.0 (from llama-index)\n",
      "  Downloading llama_index_program_openai-0.2.0-py3-none-any.whl.metadata (766 bytes)\n",
      "Collecting llama-index-question-gen-openai<0.3.0,>=0.2.0 (from llama-index)\n",
      "  Downloading llama_index_question_gen_openai-0.2.0-py3-none-any.whl.metadata (785 bytes)\n",
      "Collecting llama-index-readers-file<0.3.0,>=0.2.0 (from llama-index)\n",
      "  Downloading llama_index_readers_file-0.2.2-py3-none-any.whl.metadata (5.4 kB)\n",
      "Collecting llama-index-readers-llama-parse>=0.3.0 (from llama-index)\n",
      "  Downloading llama_index_readers_llama_parse-0.3.0-py3-none-any.whl.metadata (3.5 kB)\n",
      "Requirement already satisfied: nltk>3.8.1 in ./lib/python3.12/site-packages (from llama-index) (3.9.1)\n",
      "Requirement already satisfied: openai>=1.14.0 in ./lib/python3.12/site-packages (from llama-index-agent-openai<0.4.0,>=0.3.4->llama-index) (1.44.1)\n",
      "Requirement already satisfied: PyYAML>=6.0.1 in ./lib/python3.12/site-packages (from llama-index-core<0.12.0,>=0.11.11->llama-index) (6.0.2)\n",
      "Requirement already satisfied: SQLAlchemy>=1.4.49 in ./lib/python3.12/site-packages (from SQLAlchemy[asyncio]>=1.4.49->llama-index-core<0.12.0,>=0.11.11->llama-index) (2.0.34)\n",
      "Requirement already satisfied: aiohttp<4.0.0,>=3.8.6 in ./lib/python3.12/site-packages (from llama-index-core<0.12.0,>=0.11.11->llama-index) (3.10.5)\n",
      "Requirement already satisfied: dataclasses-json in ./lib/python3.12/site-packages (from llama-index-core<0.12.0,>=0.11.11->llama-index) (0.6.7)\n",
      "Requirement already satisfied: deprecated>=1.2.9.3 in ./lib/python3.12/site-packages (from llama-index-core<0.12.0,>=0.11.11->llama-index) (1.2.14)\n",
      "Collecting dirtyjson<2.0.0,>=1.0.8 (from llama-index-core<0.12.0,>=0.11.11->llama-index)\n",
      "  Downloading dirtyjson-1.0.8-py3-none-any.whl.metadata (11 kB)\n",
      "Requirement already satisfied: fsspec>=2023.5.0 in ./lib/python3.12/site-packages (from llama-index-core<0.12.0,>=0.11.11->llama-index) (2024.3.1)\n",
      "Requirement already satisfied: httpx in ./lib/python3.12/site-packages (from llama-index-core<0.12.0,>=0.11.11->llama-index) (0.27.0)\n",
      "Requirement already satisfied: nest-asyncio<2.0.0,>=1.5.8 in ./lib/python3.12/site-packages (from llama-index-core<0.12.0,>=0.11.11->llama-index) (1.6.0)\n",
      "Requirement already satisfied: networkx>=3.0 in ./lib/python3.12/site-packages (from llama-index-core<0.12.0,>=0.11.11->llama-index) (3.3)\n",
      "Requirement already satisfied: numpy<2.0.0 in ./lib/python3.12/site-packages (from llama-index-core<0.12.0,>=0.11.11->llama-index) (1.26.4)\n",
      "Requirement already satisfied: pillow>=9.0.0 in ./lib/python3.12/site-packages (from llama-index-core<0.12.0,>=0.11.11->llama-index) (10.4.0)\n",
      "Requirement already satisfied: pydantic<3.0.0,>=2.7.0 in ./lib/python3.12/site-packages (from llama-index-core<0.12.0,>=0.11.11->llama-index) (2.9.1)\n",
      "Requirement already satisfied: requests>=2.31.0 in ./lib/python3.12/site-packages (from llama-index-core<0.12.0,>=0.11.11->llama-index) (2.32.3)\n",
      "Requirement already satisfied: tenacity!=8.4.0,<9.0.0,>=8.2.0 in ./lib/python3.12/site-packages (from llama-index-core<0.12.0,>=0.11.11->llama-index) (8.3.0)\n",
      "Requirement already satisfied: tiktoken>=0.3.3 in ./lib/python3.12/site-packages (from llama-index-core<0.12.0,>=0.11.11->llama-index) (0.7.0)\n",
      "Requirement already satisfied: tqdm<5.0.0,>=4.66.1 in ./lib/python3.12/site-packages (from llama-index-core<0.12.0,>=0.11.11->llama-index) (4.66.5)\n",
      "Requirement already satisfied: typing-extensions>=4.5.0 in ./lib/python3.12/site-packages (from llama-index-core<0.12.0,>=0.11.11->llama-index) (4.12.2)\n",
      "Requirement already satisfied: typing-inspect>=0.8.0 in ./lib/python3.12/site-packages (from llama-index-core<0.12.0,>=0.11.11->llama-index) (0.9.0)\n",
      "Requirement already satisfied: wrapt in ./lib/python3.12/site-packages (from llama-index-core<0.12.0,>=0.11.11->llama-index) (1.16.0)\n",
      "Collecting llama-cloud>=0.0.11 (from llama-index-indices-managed-llama-cloud>=0.3.0->llama-index)\n",
      "  Downloading llama_cloud-0.0.17-py3-none-any.whl.metadata (751 bytes)\n",
      "Requirement already satisfied: pandas in ./lib/python3.12/site-packages (from llama-index-legacy<0.10.0,>=0.9.48->llama-index) (2.2.2)\n",
      "Requirement already satisfied: beautifulsoup4<5.0.0,>=4.12.3 in ./lib/python3.12/site-packages (from llama-index-readers-file<0.3.0,>=0.2.0->llama-index) (4.13.0b2)\n",
      "Requirement already satisfied: pypdf<5.0.0,>=4.0.1 in ./lib/python3.12/site-packages (from llama-index-readers-file<0.3.0,>=0.2.0->llama-index) (4.3.1)\n",
      "Collecting striprtf<0.0.27,>=0.0.26 (from llama-index-readers-file<0.3.0,>=0.2.0->llama-index)\n",
      "  Downloading striprtf-0.0.26-py3-none-any.whl.metadata (2.1 kB)\n",
      "Collecting llama-parse>=0.5.0 (from llama-index-readers-llama-parse>=0.3.0->llama-index)\n",
      "  Downloading llama_parse-0.5.6-py3-none-any.whl.metadata (6.1 kB)\n",
      "Requirement already satisfied: click in ./lib/python3.12/site-packages (from nltk>3.8.1->llama-index) (8.1.7)\n",
      "Requirement already satisfied: joblib in ./lib/python3.12/site-packages (from nltk>3.8.1->llama-index) (1.4.2)\n",
      "Requirement already satisfied: regex>=2021.8.3 in ./lib/python3.12/site-packages (from nltk>3.8.1->llama-index) (2023.12.25)\n",
      "Requirement already satisfied: aiohappyeyeballs>=2.3.0 in ./lib/python3.12/site-packages (from aiohttp<4.0.0,>=3.8.6->llama-index-core<0.12.0,>=0.11.11->llama-index) (2.4.0)\n",
      "Requirement already satisfied: aiosignal>=1.1.2 in ./lib/python3.12/site-packages (from aiohttp<4.0.0,>=3.8.6->llama-index-core<0.12.0,>=0.11.11->llama-index) (1.3.1)\n",
      "Requirement already satisfied: attrs>=17.3.0 in ./lib/python3.12/site-packages (from aiohttp<4.0.0,>=3.8.6->llama-index-core<0.12.0,>=0.11.11->llama-index) (23.2.0)\n",
      "Requirement already satisfied: frozenlist>=1.1.1 in ./lib/python3.12/site-packages (from aiohttp<4.0.0,>=3.8.6->llama-index-core<0.12.0,>=0.11.11->llama-index) (1.4.1)\n",
      "Requirement already satisfied: multidict<7.0,>=4.5 in ./lib/python3.12/site-packages (from aiohttp<4.0.0,>=3.8.6->llama-index-core<0.12.0,>=0.11.11->llama-index) (6.1.0)\n",
      "Requirement already satisfied: yarl<2.0,>=1.0 in ./lib/python3.12/site-packages (from aiohttp<4.0.0,>=3.8.6->llama-index-core<0.12.0,>=0.11.11->llama-index) (1.11.1)\n",
      "Requirement already satisfied: soupsieve>1.2 in ./lib/python3.12/site-packages (from beautifulsoup4<5.0.0,>=4.12.3->llama-index-readers-file<0.3.0,>=0.2.0->llama-index) (2.6)\n",
      "Requirement already satisfied: anyio in ./lib/python3.12/site-packages (from httpx->llama-index-core<0.12.0,>=0.11.11->llama-index) (4.4.0)\n",
      "Requirement already satisfied: certifi in ./lib/python3.12/site-packages (from httpx->llama-index-core<0.12.0,>=0.11.11->llama-index) (2024.8.30)\n",
      "Requirement already satisfied: httpcore==1.* in ./lib/python3.12/site-packages (from httpx->llama-index-core<0.12.0,>=0.11.11->llama-index) (1.0.5)\n",
      "Requirement already satisfied: idna in ./lib/python3.12/site-packages (from httpx->llama-index-core<0.12.0,>=0.11.11->llama-index) (3.8)\n",
      "Requirement already satisfied: sniffio in ./lib/python3.12/site-packages (from httpx->llama-index-core<0.12.0,>=0.11.11->llama-index) (1.3.1)\n",
      "Requirement already satisfied: h11<0.15,>=0.13 in ./lib/python3.12/site-packages (from httpcore==1.*->httpx->llama-index-core<0.12.0,>=0.11.11->llama-index) (0.14.0)\n",
      "Requirement already satisfied: distro<2,>=1.7.0 in ./lib/python3.12/site-packages (from openai>=1.14.0->llama-index-agent-openai<0.4.0,>=0.3.4->llama-index) (1.9.0)\n",
      "Requirement already satisfied: jiter<1,>=0.4.0 in ./lib/python3.12/site-packages (from openai>=1.14.0->llama-index-agent-openai<0.4.0,>=0.3.4->llama-index) (0.4.2)\n",
      "Requirement already satisfied: annotated-types>=0.6.0 in ./lib/python3.12/site-packages (from pydantic<3.0.0,>=2.7.0->llama-index-core<0.12.0,>=0.11.11->llama-index) (0.7.0)\n",
      "Requirement already satisfied: pydantic-core==2.23.3 in ./lib/python3.12/site-packages (from pydantic<3.0.0,>=2.7.0->llama-index-core<0.12.0,>=0.11.11->llama-index) (2.23.3)\n",
      "Requirement already satisfied: charset-normalizer<4,>=2 in ./lib/python3.12/site-packages (from requests>=2.31.0->llama-index-core<0.12.0,>=0.11.11->llama-index) (3.3.2)\n",
      "Requirement already satisfied: urllib3<3,>=1.21.1 in ./lib/python3.12/site-packages (from requests>=2.31.0->llama-index-core<0.12.0,>=0.11.11->llama-index) (2.2.2)\n",
      "Requirement already satisfied: greenlet!=0.4.17 in ./lib/python3.12/site-packages (from SQLAlchemy>=1.4.49->SQLAlchemy[asyncio]>=1.4.49->llama-index-core<0.12.0,>=0.11.11->llama-index) (3.1.0)\n",
      "Requirement already satisfied: mypy-extensions>=0.3.0 in ./lib/python3.12/site-packages (from typing-inspect>=0.8.0->llama-index-core<0.12.0,>=0.11.11->llama-index) (1.0.0)\n",
      "Requirement already satisfied: marshmallow<4.0.0,>=3.18.0 in ./lib/python3.12/site-packages (from dataclasses-json->llama-index-core<0.12.0,>=0.11.11->llama-index) (3.22.0)\n",
      "Requirement already satisfied: python-dateutil>=2.8.2 in ./lib/python3.12/site-packages (from pandas->llama-index-legacy<0.10.0,>=0.9.48->llama-index) (2.9.0.post0)\n",
      "Requirement already satisfied: pytz>=2020.1 in ./lib/python3.12/site-packages (from pandas->llama-index-legacy<0.10.0,>=0.9.48->llama-index) (2024.2)\n",
      "Requirement already satisfied: tzdata>=2022.7 in ./lib/python3.12/site-packages (from pandas->llama-index-legacy<0.10.0,>=0.9.48->llama-index) (2024.1)\n",
      "Requirement already satisfied: packaging>=17.0 in ./lib/python3.12/site-packages (from marshmallow<4.0.0,>=3.18.0->dataclasses-json->llama-index-core<0.12.0,>=0.11.11->llama-index) (24.1)\n",
      "Requirement already satisfied: six>=1.5 in ./lib/python3.12/site-packages (from python-dateutil>=2.8.2->pandas->llama-index-legacy<0.10.0,>=0.9.48->llama-index) (1.16.0)\n",
      "Downloading llama_index-0.11.12-py3-none-any.whl (6.8 kB)\n",
      "Downloading llama_index_agent_openai-0.3.4-py3-none-any.whl (13 kB)\n",
      "Downloading llama_index_cli-0.3.1-py3-none-any.whl (27 kB)\n",
      "Downloading llama_index_core-0.11.12-py3-none-any.whl (1.6 MB)\n",
      "\u001b[2K   \u001b[38;2;114;156;31m━━━━━━━━━━━━━━━━━━━━━━━━━━━━━━━━━━━━━━━━\u001b[0m \u001b[32m1.6/1.6 MB\u001b[0m \u001b[31m14.8 MB/s\u001b[0m eta \u001b[36m0:00:00\u001b[0mm eta \u001b[36m0:00:01\u001b[0m0:01\u001b[0m01\u001b[0m\n",
      "\u001b[?25hDownloading llama_index_embeddings_openai-0.2.5-py3-none-any.whl (6.1 kB)\n",
      "Downloading llama_index_indices_managed_llama_cloud-0.3.1-py3-none-any.whl (10 kB)\n",
      "Downloading llama_index_legacy-0.9.48.post3-py3-none-any.whl (1.2 MB)\n",
      "\u001b[2K   \u001b[38;2;114;156;31m━━━━━━━━━━━━━━━━━━━━━━━━━━━━━━━━━━━━━━━━\u001b[0m \u001b[32m1.2/1.2 MB\u001b[0m \u001b[31m24.3 MB/s\u001b[0m eta \u001b[36m0:00:00\u001b[0m31m33.5 MB/s\u001b[0m eta \u001b[36m0:00:01\u001b[0m\n",
      "\u001b[?25hDownloading llama_index_llms_openai-0.2.9-py3-none-any.whl (12 kB)\n",
      "Downloading llama_index_multi_modal_llms_openai-0.2.1-py3-none-any.whl (5.9 kB)\n",
      "Downloading llama_index_program_openai-0.2.0-py3-none-any.whl (5.3 kB)\n",
      "Downloading llama_index_question_gen_openai-0.2.0-py3-none-any.whl (2.9 kB)\n",
      "Downloading llama_index_readers_file-0.2.2-py3-none-any.whl (38 kB)\n",
      "Downloading llama_index_readers_llama_parse-0.3.0-py3-none-any.whl (2.5 kB)\n",
      "Downloading dirtyjson-1.0.8-py3-none-any.whl (25 kB)\n",
      "Downloading llama_cloud-0.0.17-py3-none-any.whl (187 kB)\n",
      "\u001b[2K   \u001b[38;2;114;156;31m━━━━━━━━━━━━━━━━━━━━━━━━━━━━━━━━━━━━━━━━\u001b[0m \u001b[32m187.4/187.4 kB\u001b[0m \u001b[31m12.2 MB/s\u001b[0m eta \u001b[36m0:00:00\u001b[0m\n",
      "\u001b[?25hDownloading llama_parse-0.5.6-py3-none-any.whl (10 kB)\n",
      "Downloading striprtf-0.0.26-py3-none-any.whl (6.9 kB)\n",
      "Installing collected packages: striprtf, dirtyjson, llama-index-core, llama-cloud, llama-parse, llama-index-readers-file, llama-index-llms-openai, llama-index-legacy, llama-index-indices-managed-llama-cloud, llama-index-embeddings-openai, llama-index-readers-llama-parse, llama-index-multi-modal-llms-openai, llama-index-cli, llama-index-agent-openai, llama-index-program-openai, llama-index-question-gen-openai, llama-index\n",
      "Successfully installed dirtyjson-1.0.8 llama-cloud-0.0.17 llama-index-0.11.12 llama-index-agent-openai-0.3.4 llama-index-cli-0.3.1 llama-index-core-0.11.12 llama-index-embeddings-openai-0.2.5 llama-index-indices-managed-llama-cloud-0.3.1 llama-index-legacy-0.9.48.post3 llama-index-llms-openai-0.2.9 llama-index-multi-modal-llms-openai-0.2.1 llama-index-program-openai-0.2.0 llama-index-question-gen-openai-0.2.0 llama-index-readers-file-0.2.2 llama-index-readers-llama-parse-0.3.0 llama-parse-0.5.6 striprtf-0.0.26\n",
      "Requirement already satisfied: openai in ./lib/python3.12/site-packages (1.44.1)\n",
      "Requirement already satisfied: anyio<5,>=3.5.0 in ./lib/python3.12/site-packages (from openai) (4.4.0)\n",
      "Requirement already satisfied: distro<2,>=1.7.0 in ./lib/python3.12/site-packages (from openai) (1.9.0)\n",
      "Requirement already satisfied: httpx<1,>=0.23.0 in ./lib/python3.12/site-packages (from openai) (0.27.0)\n",
      "Requirement already satisfied: jiter<1,>=0.4.0 in ./lib/python3.12/site-packages (from openai) (0.4.2)\n",
      "Requirement already satisfied: pydantic<3,>=1.9.0 in ./lib/python3.12/site-packages (from openai) (2.9.1)\n",
      "Requirement already satisfied: sniffio in ./lib/python3.12/site-packages (from openai) (1.3.1)\n",
      "Requirement already satisfied: tqdm>4 in ./lib/python3.12/site-packages (from openai) (4.66.5)\n",
      "Requirement already satisfied: typing-extensions<5,>=4.11 in ./lib/python3.12/site-packages (from openai) (4.12.2)\n",
      "Requirement already satisfied: idna>=2.8 in ./lib/python3.12/site-packages (from anyio<5,>=3.5.0->openai) (3.8)\n",
      "Requirement already satisfied: certifi in ./lib/python3.12/site-packages (from httpx<1,>=0.23.0->openai) (2024.8.30)\n",
      "Requirement already satisfied: httpcore==1.* in ./lib/python3.12/site-packages (from httpx<1,>=0.23.0->openai) (1.0.5)\n",
      "Requirement already satisfied: h11<0.15,>=0.13 in ./lib/python3.12/site-packages (from httpcore==1.*->httpx<1,>=0.23.0->openai) (0.14.0)\n",
      "Requirement already satisfied: annotated-types>=0.6.0 in ./lib/python3.12/site-packages (from pydantic<3,>=1.9.0->openai) (0.7.0)\n",
      "Requirement already satisfied: pydantic-core==2.23.3 in ./lib/python3.12/site-packages (from pydantic<3,>=1.9.0->openai) (2.23.3)\n",
      "Requirement already satisfied: pypdf in ./lib/python3.12/site-packages (4.3.1)\n"
     ]
    }
   ],
   "source": [
    "!pip install llama-index\n",
    "!pip install openai\n",
    "!pip install pypdf"
   ]
  },
  {
   "cell_type": "code",
   "execution_count": 2,
   "id": "4dd2e772-c741-4789-8868-144be50275d3",
   "metadata": {},
   "outputs": [],
   "source": [
    "import os\n",
    "from dotenv import load_dotenv\n",
    "\n",
    "load_dotenv()\n",
    "\n",
    "openai_api_key_var = os.getenv('OPENAI_API_KEY')\n"
   ]
  },
  {
   "cell_type": "code",
   "execution_count": 3,
   "id": "bc50c3fd-8eb0-4ae1-84d6-dd485465f6b3",
   "metadata": {},
   "outputs": [],
   "source": [
    "from langchain_openai.chat_models import ChatOpenAI\n",
    "\n",
    "model = ChatOpenAI(openai_api_key = openai_api_key_var, model = \"gpt-4o-mini\")"
   ]
  },
  {
   "cell_type": "code",
   "execution_count": 4,
   "id": "1e0730fd-eaf9-448d-8153-f04fb097fef2",
   "metadata": {},
   "outputs": [
    {
     "data": {
      "text/plain": [
       "AIMessage(content=\"I'm just a program, so I don't have feelings, but I'm here and ready to help you! How can I assist you today?\", additional_kwargs={'refusal': None}, response_metadata={'token_usage': {'completion_tokens': 27, 'prompt_tokens': 11, 'total_tokens': 38, 'completion_tokens_details': {'reasoning_tokens': 0}}, 'model_name': 'gpt-4o-mini-2024-07-18', 'system_fingerprint': 'fp_1bb46167f9', 'finish_reason': 'stop', 'logprobs': None}, id='run-2d620af1-d86d-4f23-8d9b-00567514c3bc-0', usage_metadata={'input_tokens': 11, 'output_tokens': 27, 'total_tokens': 38})"
      ]
     },
     "execution_count": 4,
     "metadata": {},
     "output_type": "execute_result"
    }
   ],
   "source": [
    "model.invoke(\"how are you?\")"
   ]
  },
  {
   "cell_type": "code",
   "execution_count": 5,
   "id": "a75cb74b-81e1-49f7-b48c-8c65c1a8a76c",
   "metadata": {},
   "outputs": [],
   "source": [
    "from langchain_community.document_loaders import UnstructuredPDFLoader\n",
    "from langchain_community.document_loaders import OnlinePDFLoader\n",
    "from langchain.document_loaders.pdf import PyPDFDirectoryLoader"
   ]
  },
  {
   "cell_type": "code",
   "execution_count": 6,
   "id": "badbc06b-0b18-4a38-8d2b-1067f2701f7a",
   "metadata": {},
   "outputs": [],
   "source": [
    "def load_documents():\n",
    "    document_loader = PyPDFDirectoryLoader('TutorAI_Data/')\n",
    "    return document_loader.load()"
   ]
  },
  {
   "cell_type": "code",
   "execution_count": 8,
   "id": "97cccb92-cca8-4e1c-abd2-e23e52e1aa8e",
   "metadata": {
    "scrolled": true
   },
   "outputs": [
    {
     "name": "stderr",
     "output_type": "stream",
     "text": [
      "Ignoring wrong pointing object 8 0 (offset 0)\n",
      "Ignoring wrong pointing object 10 0 (offset 0)\n",
      "Ignoring wrong pointing object 12 0 (offset 0)\n",
      "Ignoring wrong pointing object 14 0 (offset 0)\n",
      "Ignoring wrong pointing object 22 0 (offset 0)\n",
      "Ignoring wrong pointing object 28 0 (offset 0)\n",
      "Ignoring wrong pointing object 34 0 (offset 0)\n",
      "Ignoring wrong pointing object 36 0 (offset 0)\n",
      "Ignoring wrong pointing object 42 0 (offset 0)\n",
      "Ignoring wrong pointing object 65 0 (offset 0)\n",
      "Ignoring wrong pointing object 67 0 (offset 0)\n",
      "Ignoring wrong pointing object 73 0 (offset 0)\n",
      "Ignoring wrong pointing object 79 0 (offset 0)\n",
      "Ignoring wrong pointing object 81 0 (offset 0)\n",
      "Ignoring wrong pointing object 87 0 (offset 0)\n",
      "Ignoring wrong pointing object 89 0 (offset 0)\n",
      "Ignoring wrong pointing object 103 0 (offset 0)\n",
      "Ignoring wrong pointing object 105 0 (offset 0)\n",
      "Ignoring wrong pointing object 107 0 (offset 0)\n",
      "Ignoring wrong pointing object 118 0 (offset 0)\n",
      "Ignoring wrong pointing object 120 0 (offset 0)\n",
      "Ignoring wrong pointing object 122 0 (offset 0)\n",
      "Ignoring wrong pointing object 128 0 (offset 0)\n",
      "Ignoring wrong pointing object 134 0 (offset 0)\n",
      "Ignoring wrong pointing object 142 0 (offset 0)\n",
      "Ignoring wrong pointing object 156 0 (offset 0)\n",
      "Ignoring wrong pointing object 158 0 (offset 0)\n",
      "Ignoring wrong pointing object 173 0 (offset 0)\n",
      "Ignoring wrong pointing object 189 0 (offset 0)\n",
      "Ignoring wrong pointing object 337 0 (offset 0)\n",
      "Ignoring wrong pointing object 351 0 (offset 0)\n"
     ]
    }
   ],
   "source": [
    "pdf_documents = load_documents()"
   ]
  },
  {
   "cell_type": "code",
   "execution_count": 90,
   "id": "14c1b3c9-496c-4e23-8460-23ef2e661640",
   "metadata": {
    "scrolled": true
   },
   "outputs": [
    {
     "name": "stdout",
     "output_type": "stream",
     "text": [
      "page_content='CHAPTER 1 / AI: HISTORY AND APPLICATIONS 29seeks to build intelligent programs using models that parallel the structure of neurons in\n",
      "the human brain or the evolving patterns found in genetic algorithms and artiﬁcial life.\n",
      "A simple schematic of a neuron (Figure 1.2) consists of a cell body that has a number\n",
      "of branched protrusions, called dendrites , and a single branch called the axon . Dendrites\n",
      "receive signals from other neurons. When these combined impulses exceed a certainthreshold, the neuron ﬁres and an impulse, or spike , passes down the axon. Branches at the\n",
      "end of the axon form synapses with the dendrites of other neurons. The synapse is the\n",
      "point of contact between neurons; synapses may be either excitatory orinhibitory , either\n",
      "adding to the total of signals reaching the neuron or subtracting from that total. \n",
      "This description of a neuron is excessively simple, but it captures those features that\n",
      "are relevant to neural models of computation. In particular, each computational unit com-putes some function of its inputs and passes the result along to connected units in the net-work: the ﬁnal results are produced by the parallel and distributed processing of thisnetwork of neural connections and threshold weights.\n",
      "Neural architectures are appealing mechanisms for implementing intelligence for a\n",
      "number of reasons. Traditional AI programs can be brittle and overly sensitive to noise.Human intelligence is much more ﬂexible and good at interpreting noisy input, such as aface in a darkened room or a conversation at a noisy party. Neural architectures, becausethey capture knowledge in a large number of ﬁne-grained units distributed about a net-work, seem to have more potential for partially matching noisy and incomplete data. \n",
      "With genetic algorithms and artiﬁcial life we evolve new problem solutions from\n",
      "components of previous solutions. The genetic operators, such as crossover andmutation ,\n",
      "much like their genetic equivalents in the natural world, work to produce, for each newgeneration, ever better potential problem solutions. Artiﬁcial life produces its new genera-tion as a function of the “quality” of its neighbors in previous generations.\n",
      "Both neural architectures and genetic algorithms provide a natural model for parallel-\n",
      "ism, because each neuron or segment of a solution is an independent unit. Hillis (1985)has commented on the fact that humans get faster at a task as they acquire more knowl-edge, while computers tend to slow down. This slowdown is due to the cost of sequen-tially searching a knowledge base; a massively parallel architecture like the human brainwould not suffer from this problem. Finally, something is intrinsically appealing aboutapproaching the problems of intelligence from a neural or genetic point of view. After all,the evolved brain achieves intelligence and it does so using a neural architecture. Wepresent neural networks, genetic algorithms, and artiﬁcial life, in Chapters 10 and 11. \n",
      "Synapse\n",
      "Cell body\n",
      "DendriteAxon\n",
      "Figure 1.2 A simplified diagram of a neuron, from \n",
      "Crick and Asanuma (1986).' metadata={'source': 'TutorAI_Data/20AM3602 - M.2. Artificial Intelligence.pdf', 'page': 53}\n"
     ]
    }
   ],
   "source": [
    "print(pdf_documents[600])"
   ]
  },
  {
   "cell_type": "code",
   "execution_count": 82,
   "id": "1c92818a-3474-4389-9c3c-af0e3f139be0",
   "metadata": {
    "scrolled": true
   },
   "outputs": [],
   "source": [
    "from langchain_text_splitters import RecursiveCharacterTextSplitter\n",
    "\n",
    "text_splitter = RecursiveCharacterTextSplitter(chunk_size = 2000, chunk_overlap = 300)\n",
    "chunks = text_splitter.split_documents(pdf_documents)\n"
   ]
  },
  {
   "cell_type": "code",
   "execution_count": 74,
   "id": "be667f6b-7ae6-40c3-8a45-442c0b70674d",
   "metadata": {},
   "outputs": [
    {
     "name": "stdout",
     "output_type": "stream",
     "text": [
      "page_content='*Real DOMDOMstandsfor“DocumentObjectModel”TheDOMinsimplewordsrepresentstheUIofyourapplication.WhatmakesDOMmanipulationslow?TheDOMisrepresentedasatreedatastructure.Becauseofthat,thechangesandupdatestotheDOMarefast.Butafterthechange,theupdatedelementandit’schildrenhavetobere-renderedtoupdatetheapplicationUI.There-renderingorre-paintingoftheUIiswhatmakesitslow.\n",
      "51' metadata={'source': 'TutorAI_Data/20OE0003 - 5.1. Introduction to ReactJS.pdf', 'page': 50}\n"
     ]
    }
   ],
   "source": [
    "print(chunks[50])"
   ]
  },
  {
   "cell_type": "code",
   "execution_count": 101,
   "id": "147d67b8-c0da-4f46-a1e0-0d302b969e6f",
   "metadata": {},
   "outputs": [],
   "source": [
    "# from langchain_community.vectorstores import Chroma\n",
    "# from openai import OpenAI\n",
    "# from langchain_openai.embeddings import OpenAIEmbeddings\n",
    "\n",
    "# client = OpenAI()\n",
    "\n",
    "# def get_embedding(text = pdf_documents, model=\"text-embedding-3-small\"):\n",
    "#     vector_embeddings = client.embeddings.create(input = [text], model=model).data[0].embedding\n",
    "#     return vector_embeddings\n"
   ]
  },
  {
   "cell_type": "code",
   "execution_count": 83,
   "id": "326d13b2-03f6-4b8b-a99a-03df29945371",
   "metadata": {},
   "outputs": [],
   "source": [
    "from langchain_openai.embeddings import OpenAIEmbeddings\n",
    "\n",
    "# Initialize OpenAI Embeddings with your API key\n",
    "embedding_model = OpenAIEmbeddings(openai_api_key=openai_api_key_var, model = \"text-embedding-3-small\")\n",
    "\n",
    "# Embed the document chunks using the 'text-embedding-3-small' model\n",
    "embeddings = embedding_model.embed_documents([chunk.page_content for chunk in chunks])\n",
    "\n",
    "# View an example embedding\n",
    "#print(embeddings[0])\n"
   ]
  },
  {
   "cell_type": "markdown",
   "id": "602783e9-4cf0-40cc-9f32-c2b3ccfb08e6",
   "metadata": {},
   "source": [
    "# Visual Representation of Vectors"
   ]
  },
  {
   "cell_type": "code",
   "execution_count": 11,
   "id": "96900a3e-f99f-44ca-a86f-5fb17fc1d8c0",
   "metadata": {},
   "outputs": [
    {
     "data": {
      "image/png": "[encoded data removed]",
      "text/plain": [
       "<Figure size 640x480 with 1 Axes>"
      ]
     },
     "metadata": {},
     "output_type": "display_data"
    }
   ],
   "source": [
    "from sklearn.decomposition import PCA\n",
    "import matplotlib.pyplot as plt\n",
    "\n",
    "# Apply PCA to reduce embeddings to 2D\n",
    "pca = PCA(n_components=2)\n",
    "embeddings_2d = pca.fit_transform(embeddings)\n",
    "\n",
    "# Plot the embeddings\n",
    "plt.scatter(embeddings_2d[:, 0], embeddings_2d[:, 1])\n",
    "plt.title('2D Visualization of Document Embeddings')\n",
    "plt.xlabel('PCA Component 1')\n",
    "plt.ylabel('PCA Component 2')\n",
    "plt.show()\n"
   ]
  },
  {
   "cell_type": "code",
   "execution_count": 14,
   "id": "630ebc89-d746-4fc9-849f-2601ac401eb0",
   "metadata": {},
   "outputs": [
    {
     "name": "stdout",
     "output_type": "stream",
     "text": [
      "Cosine similarity between chunk 0 and chunk 1: 0.5820671154150686\n"
     ]
    }
   ],
   "source": [
    "from sklearn.metrics.pairwise import cosine_similarity\n",
    "\n",
    "# Compute cosine similarity between the first two document chunks\n",
    "similarity = cosine_similarity([embeddings[999]], [embeddings[1000]])\n",
    "print(f\"Cosine similarity between chunk 0 and chunk 1: {similarity[0][0]}\")\n"
   ]
  },
  {
   "cell_type": "markdown",
   "id": "7d909553-318a-4744-9fe5-3eb58cd8abe4",
   "metadata": {},
   "source": [
    "# ----------------------------------------------------------------------------------"
   ]
  },
  {
   "cell_type": "code",
   "execution_count": 84,
   "id": "970b93fc-6c8b-45a5-a240-34be6a83d07e",
   "metadata": {},
   "outputs": [],
   "source": [
    "from langchain.vectorstores import Chroma\n",
    "\n",
    "vector_store = Chroma.from_documents(\n",
    "    documents=chunks,  # The chunks of the documents you created earlier\n",
    "    embedding=embedding_model,  # The embedding model used to generate embeddings\n",
    "    persist_directory='chroma_store'  # Directory to store the persistent data\n",
    ")\n",
    "\n",
    "vector_store.persist()"
   ]
  },
  {
   "cell_type": "code",
   "execution_count": 85,
   "id": "5e32ed30-9a91-44f4-98ea-e698fca2c7a3",
   "metadata": {},
   "outputs": [],
   "source": [
    "from langchain.prompts import PromptTemplate, ChatPromptTemplate\n",
    "\n",
    "# Create a custom prompt template\n",
    "custom_prompt = PromptTemplate(\n",
    "    input_variables=[\"question\"],\n",
    "    template=\"\"\"You are an AI language model assistant. Your task is to generate five\n",
    "    different version sof the give user quesion to retrieve relevant documents from \n",
    "    a vector database. By generating multiple perspectives on the user question, your goal is to\n",
    "    help the user overcome some of the limitations of the distance-based similarity search.\n",
    "    Provide these alternative questions separate by newlines.\n",
    "    Original question: {question}\"\"\",\n",
    ")"
   ]
  },
  {
   "cell_type": "code",
   "execution_count": 99,
   "id": "4aba2969-070d-4268-bfa4-e6c5153a239d",
   "metadata": {},
   "outputs": [],
   "source": [
    "from langchain.retrievers.multi_query import MultiQueryRetriever\n",
    "\n",
    "retriever = MultiQueryRetriever.from_llm(\n",
    "    vector_store.as_retriever(),\n",
    "    llm = model,\n",
    "    prompt = custom_prompt\n",
    ")\n",
    "\n",
    "template = \"\"\" Answer the questions based ONLY on the following context:{context}\n",
    "DO NOT use your own knowledge or any other external sources which are not provided to answer the questions.\n",
    "If the answer is not present in the context provided then tell that you dont know that information.\n",
    "At the end of every answer you give,  provide the resource from which you extracted the information from using this format: Document Name, Page number \n",
    "Question: {question}\"\"\"\n",
    "\n",
    "prompt = ChatPromptTemplate.from_template(template)"
   ]
  },
  {
   "cell_type": "code",
   "execution_count": 100,
   "id": "b3db6d47-7b6e-4291-88e0-b0a1c1b93ea7",
   "metadata": {},
   "outputs": [],
   "source": [
    "from langchain_core.runnables import RunnablePassthrough\n",
    "from langchain_core.output_parsers import StrOutputParser\n",
    "\n",
    "chain = (\n",
    "    {\"context\": retriever, 'question': RunnablePassthrough()}\n",
    "    | prompt\n",
    "    | model\n",
    "    | StrOutputParser()\n",
    ")"
   ]
  },
  {
   "cell_type": "code",
   "execution_count": 81,
   "id": "93a91b42-1cc8-4eb9-8aa2-e939743001d4",
   "metadata": {},
   "outputs": [
    {
     "name": "stdin",
     "output_type": "stream",
     "text": [
      " what all PDF's has been given to you?\n"
     ]
    },
    {
     "data": {
      "text/plain": [
       "'The PDFs provided are:\\n\\n1. \"Mastering Cloud Computing.pdf\"\\n2. \"Cristiano-Ronaldo - the biography-PDFDrive-.pdf\"\\n3. \"20AM3602 - M.2. Artificial Intelligence.pdf\"'"
      ]
     },
     "execution_count": 81,
     "metadata": {},
     "output_type": "execute_result"
    }
   ],
   "source": [
    "chain.invoke(input(\"\"))"
   ]
  },
  {
   "cell_type": "code",
   "execution_count": 33,
   "id": "ebf7209b-68a5-4e9b-8a08-530671918d6f",
   "metadata": {},
   "outputs": [
    {
     "name": "stdin",
     "output_type": "stream",
     "text": [
      " what all PDF's has been given to you ?\n"
     ]
    },
    {
     "data": {
      "text/plain": [
       "'The provided PDFs are:\\n\\n1. \"20AM3602 - M.2. Artificial Intelligence.pdf\"\\n2. \"Mastering_Cloud_Computing.pdf\"'"
      ]
     },
     "execution_count": 33,
     "metadata": {},
     "output_type": "execute_result"
    }
   ],
   "source": [
    "chain.invoke(input(\"\"))"
   ]
  },
  {
   "cell_type": "code",
   "execution_count": 101,
   "id": "3b7967a0-0963-4339-b755-136916558553",
   "metadata": {},
   "outputs": [
    {
     "name": "stdin",
     "output_type": "stream",
     "text": [
      " What is React?\n"
     ]
    },
    {
     "data": {
      "text/plain": [
       "'React is a JavaScript library created by Facebook, used for building UI components. It is an open-source frontend library for building user interfaces, especially for single-page applications, and it handles the view layers for web and mobile apps. React is described as a simple, feature-rich, component-based JavaScript UI library that can be used to develop both small applications and large, complex applications. \\n\\nDocument Name: TutorAI_Data/20OE0003 - 5.1. Introduction to ReactJS.pdf, Page number 0'"
      ]
     },
     "execution_count": 101,
     "metadata": {},
     "output_type": "execute_result"
    }
   ],
   "source": [
    "chain.invoke(input(\"\"))"
   ]
  },
  {
   "cell_type": "code",
   "execution_count": null,
   "id": "0c8d8b8f-3e0e-4517-9c2b-41583b0c41b7",
   "metadata": {},
   "outputs": [],
   "source": []
  }
 ],
 "metadata": {
  "kernelspec": {
   "display_name": "Python 3 (ipykernel)",
   "language": "python",
   "name": "python3"
  },
  "language_info": {
   "codemirror_mode": {
    "name": "ipython",
    "version": 3
   },
   "file_extension": ".py",
   "mimetype": "text/x-python",
   "name": "python",
   "nbconvert_exporter": "python",
   "pygments_lexer": "ipython3",
   "version": "3.12.3"
  }
 },
 "nbformat": 4,
 "nbformat_minor": 5
}
